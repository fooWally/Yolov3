{
 "cells": [
  {
   "cell_type": "code",
   "execution_count": 3,
   "metadata": {},
   "outputs": [
    {
     "name": "stdout",
     "output_type": "stream",
     "text": [
      "annotations = ['E:\\\\keras_yolob\\\\test_images\\\\000001.jpg 226,251,248,273,6 150,36,195,110,1']\n",
      "(1, 416, 416, 3)\n",
      "(1, 2, 5)\n",
      "[[[226 251 248 273   6]\n",
      "  [150  36 195 110   1]]]\n"
     ]
    }
   ],
   "source": [
    "import numpy as np\n",
    "import tensorflow as tf\n",
    "import matplotlib.pyplot as plt\n",
    "from test_utils import (preprocess_true_boxes,\n",
    "                        image_preporcess, parse_annotation, load_annotations,get_anchors,\n",
    "                        convert_to_corners\n",
    "                        )\n",
    "###############################################################################\n",
    "#   Demonstration of what preprocess_true_boxes does\n",
    "#   1  Take true bounding boxes(bboxes) and class_ids\n",
    "#   2. compute best anchor boxes, which mask objects the best in the image\n",
    "#      and store the positions of those anchor boxes in y_true for each grid\n",
    "#      (y_true will be fed into training later)\n",
    "#   3. Display anchor boxes and true bounding boxes at the end\n",
    "#\n",
    "\n",
    "num_classes = 10 # for mnist dataset : 80 for ms-coco dataset\n",
    "annos_path = 'test_images/000001.txt'\n",
    "annos = load_annotations(annos_path)\n",
    "print('annotations =', annos)\n",
    "anno = annos[0]\n",
    "image, true_boxes = parse_annotation(anno)\n",
    "batch_images = np.array([image]) # (num_batch_images, input_shape, num__channels)\n",
    "# preprocess_true_boxes takes\n",
    "# the shape (num_batch_images, num_true_boxes,4+1),\n",
    "# where 4+1 corresponds to (xmin,ymin,xmax,ymax)+class_id\n",
    "batch_true_boxes = np.array([true_boxes])\n",
    "print(batch_images.shape)\n",
    "print(batch_true_boxes.shape)\n",
    "print(batch_true_boxes)\n"
   ]
  },
  {
   "cell_type": "code",
   "execution_count": 10,
   "metadata": {},
   "outputs": [
    {
     "name": "stdout",
     "output_type": "stream",
     "text": [
      "true_boxes.shape = (1, 2, 5)\n",
      "indices for best_anchors = [2 3]\n",
      "best_IOU_values = [0.6376812 0.5495495]\n",
      "(1, 13, 13, 3, 15)\n",
      "(1, 26, 26, 3, 15)\n",
      "(1, 52, 52, 3, 15)\n"
     ]
    }
   ],
   "source": [
    "input_shape = image.shape[:2] #[416, 416]\n",
    "anchors = get_anchors()\n",
    "y_true, ious, best_anchors = preprocess_true_boxes(batch_true_boxes, input_shape, anchors, num_classes)\n",
    "y_true13, y_true26,  y_true52 = y_true\n",
    "print('indices for best_anchors =', best_anchors) # indices for best iou values\n",
    "print('best_IOU_values =', ious[np.arange(2), best_anchors])\n",
    "print(y_true13.shape) # 13x13 grid\n",
    "print(y_true26.shape) # 26x26 grid\n",
    "print(y_true52.shape) # 52x52 grid\n"
   ]
  },
  {
   "cell_type": "code",
   "execution_count": 11,
   "metadata": {},
   "outputs": [
    {
     "name": "stdout",
     "output_type": "stream",
     "text": [
      "y_true26 = [0.41346154 0.17548077 0.10817308 0.17788461 1.         0.\n",
      " 1.         0.         0.         0.         0.         0.\n",
      " 0.         0.         0.        ]\n",
      "y_true26 scaled box = [0.41346154 0.17548077 0.10817308 0.17788461]\n",
      "y_true26 box = [172.  73.  45.  74.]\n",
      "y_true52 = [0.56971157 0.6298077  0.05288462 0.05288462 1.         0.\n",
      " 0.         0.         0.         0.         0.         1.\n",
      " 0.         0.         0.        ]\n",
      "y_true52 scaled box = [0.56971157 0.6298077  0.05288462 0.05288462]\n",
      "y_true52 box = [237.00002 262.       22.       22.     ]\n"
     ]
    }
   ],
   "source": [
    "#-----------------------------------------------------\n",
    "#   Bounding Box in xc,yc,w,h \n",
    "#\n",
    "# y_true[L][b,j,i,k,:].shape = (15,)\n",
    "# 15: 4(xcycwh) + 1(objectness) + 10(num_classes)\n",
    "# 1. normalized xcycwh by 416\n",
    "# 2. class_id encoded as one-hot vector for mnist dataset\n",
    "#\n",
    "# anchor_mask = [[6,7,8], [3,4,5], [0,1,2]]\n",
    "# anchor_mask[L=1] = [3,4,5]\n",
    "\n",
    "L=1 # 26x26 grid in 416x416\n",
    "b=0; i,j = 10, 4 ; k=0 #<- n = 3 ; c=1: mnist digit\n",
    "print('y_true26 =', y_true[L][b,j,i,k,:])\n",
    "print('y_true26 scaled box =', y_true[L][b,j,i,k,0:4])\n",
    "box1 = y_true[L][b,j,i,k,0:4]*416.0 #scaling back\n",
    "print('y_true26 box =', box1) # xc,yc,w,h format\n",
    "\n",
    "L=2 # 52x52 grid in 416x416\n",
    "b=0; i,j = 29,32 ; k=2 #<- n = 2 ; c=6: mnist digit\n",
    "                       #k=2 of L=2 : \n",
    "print('y_true52 =', y_true[L][b,j,i,k,:])\n",
    "print('y_true52 scaled box =', y_true[L][b,j,i,k,0:4])\n",
    "box2 = y_true[L][b,j,i,k,0:4]*416.0  #scaling back\n",
    "print('y_true52 box =', box2) # xc,yc,w,h format"
   ]
  },
  {
   "cell_type": "code",
   "execution_count": 12,
   "metadata": {},
   "outputs": [
    {
     "name": "stdout",
     "output_type": "stream",
     "text": [
      "boxes_xywh = [[172.       73.       45.       74.     ]\n",
      " [237.00002 262.       22.       22.     ]]\n",
      "box = tf.Tensor([149.5  36.  194.5 110. ], shape=(4,), dtype=float32)\n",
      "box = tf.Tensor([226.00002 251.      248.00002 273.     ], shape=(4,), dtype=float32)\n"
     ]
    },
    {
     "data": {
      "image/png": "[encoded data removed]",
      "text/plain": [
       "<Figure size 360x360 with 1 Axes>"
      ]
     },
     "metadata": {
      "needs_background": "light"
     },
     "output_type": "display_data"
    }
   ],
   "source": [
    "#--------------------------------------------------\n",
    "#\n",
    "#   Display an image of objects and bboxes\n",
    "#\n",
    "\n",
    "boxes_xywh = np.array([box1,box2]) # box1 and box2 are in [xc,yc,w,h] format\n",
    "print('boxes_xywh =', boxes_xywh)\n",
    "boxes_xyxy = convert_to_corners(boxes_xywh) # [xmin,ymin,xmax,ymax] format\n",
    "classes = [1, 6] # from true_boxes[b, t, 4].astype('int32')\n",
    "scores = ['test', 'test']\n",
    "#image = np.array(image, dtype=np.uint8)\n",
    "%matplotlib inline\n",
    "plt.figure(figsize=(5, 5))\n",
    "plt.imshow(image)\n",
    "ax = plt.gca() ; color=[0, 0, 1]\n",
    "for box, _cls, score in zip(boxes_xyxy, classes, scores):\n",
    "    #text = \"{}: {:.2f}\".format(_cls, score)\n",
    "    text = \"{}: {:}\".format(_cls, score)\n",
    "    print('box =', box)  # =\n",
    "    x1, y1, x2, y2 = box # box in format [xmin,ymin,xmax,ymax]\n",
    "    w, h = abs(x2-x1), abs(y2-y1)\n",
    "    patch = plt.Rectangle([x1, y1], w, h, fill=False,\n",
    "                          edgecolor=color, linewidth=0.5)\n",
    "    ax.add_patch(patch)\n",
    "    ax.text( x1, y1, text,  bbox={\"facecolor\": color, \"alpha\": 0.1},\n",
    "             clip_box=ax.clipbox, clip_on=True, )\n"
   ]
  },
  {
   "cell_type": "code",
   "execution_count": 13,
   "metadata": {},
   "outputs": [
    {
     "name": "stdout",
     "output_type": "stream",
     "text": [
      "box = tf.Tensor([149.5  36.  194.5 110. ], shape=(4,), dtype=float32)\n",
      "box = tf.Tensor([226.00002 251.      248.00002 273.     ], shape=(4,), dtype=float32)\n",
      "red dot : center of the anchor box\n",
      "168.0 72.0\n"
     ]
    },
    {
     "data": {
      "image/png": "[encoded data removed]",
      "text/plain": [
       "<Figure size 360x360 with 1 Axes>"
      ]
     },
     "metadata": {
      "needs_background": "light"
     },
     "output_type": "display_data"
    }
   ],
   "source": [
    "#---------------------------------------------------\n",
    "#  Anchor Box and Grid\n",
    "#\n",
    "classes = [1, 6] # from true_boxes[b, t, 4].astype('int32')\n",
    "scores = ['test', 'test']\n",
    "#image = np.array(image, dtype=np.uint8)\n",
    "%matplotlib inline\n",
    "plt.figure(figsize=(5, 5))\n",
    "plt.imshow(image)\n",
    "ax = plt.gca() ; color=[0, 0, 1]\n",
    "for box, _cls, score in zip(boxes_xyxy, classes, scores):\n",
    "    #text = \"{}: {:.2f}\".format(_cls, score)\n",
    "    text = \"{}: {:}\".format(_cls, score)\n",
    "    print('box =', box)  # =\n",
    "    x1, y1, x2, y2 = box # box in format [xmin,ymin,xmax,ymax]\n",
    "    w, h = abs(x2-x1), abs(y2-y1)\n",
    "    patch = plt.Rectangle([x1, y1], w, h, fill=False,\n",
    "                          edgecolor=color, linewidth=0.5)\n",
    "    ax.add_patch(patch)\n",
    "    ax.text( x1, y1, text,  bbox={\"facecolor\": color, \"alpha\": 0.1},\n",
    "             clip_box=ax.clipbox, clip_on=True, )\n",
    "\n",
    "######### 26x26 grid\n",
    "grid = 26  # L = 1 n = 3\n",
    "i, j = 10, 4# position of anchor\n",
    "x = np.linspace(0,416,grid+1) # start, end, howmany\n",
    "y = np.linspace(0,416,grid+1)\n",
    "xx, yy = np.meshgrid(x,y)\n",
    "anchor_xc = xx[i+1, i+1] - x[1]/2.0\n",
    "anchor_yc = yy[j+1, 0] - y[1]/2.0\n",
    "print('red dot : center of the anchor box')\n",
    "print(anchor_xc, anchor_yc)\n",
    "plt.scatter(anchor_xc, anchor_yc, marker='.', color='r')\n",
    "plt.plot(xx, yy, 'b', linewidth=0.5, alpha=0.2)\n",
    "plt.plot(yy, xx, 'b', linewidth=0.5, alpha=0.2)\n",
    "\n",
    "# Anchor box; width and height\n",
    "L = 1; n = 3\n",
    "anchor = anchors[n]\n",
    "w, h = anchor\n",
    "xmin = anchor_xc - w/2.0\n",
    "ymin = anchor_yc - h/2.0\n",
    "anchor_patch = plt.Rectangle([xmin, ymin], w, h, fill=True, alpha=0.3, \n",
    "                              edgecolor=color, linewidth=0.5)\n",
    "ax.add_patch(anchor_patch)\n",
    "plt.show()\n"
   ]
  },
  {
   "cell_type": "code",
   "execution_count": 26,
   "metadata": {},
   "outputs": [
    {
     "name": "stdout",
     "output_type": "stream",
     "text": [
      "box = tf.Tensor([149.5  36.  194.5 110. ], shape=(4,), dtype=float32)\n",
      "box = tf.Tensor([226.00002 251.      248.00002 273.     ], shape=(4,), dtype=float32)\n",
      "red dot : center of the anchor box\n",
      "236.0 260.0\n"
     ]
    },
    {
     "data": {
      "image/png": "[encoded data removed]",
      "text/plain": [
       "<Figure size 360x360 with 1 Axes>"
      ]
     },
     "metadata": {
      "needs_background": "light"
     },
     "output_type": "display_data"
    }
   ],
   "source": [
    "classes = [1, 6] # from true_boxes[b, t, 4].astype('int32')\n",
    "scores = ['test', 'test']\n",
    "#image = np.array(image, dtype=np.uint8)\n",
    "%matplotlib inline\n",
    "plt.figure(figsize=(5, 5))\n",
    "plt.imshow(image)\n",
    "ax = plt.gca() ; color=[0, 0, 1]\n",
    "for box, _cls, score in zip(boxes_xyxy, classes, scores):\n",
    "    #text = \"{}: {:.2f}\".format(_cls, score)\n",
    "    text = \"{}: {:}\".format(_cls, score)\n",
    "    print('box =', box)  # =\n",
    "    x1, y1, x2, y2 = box # box in format [xmin,ymin,xmax,ymax]\n",
    "    w, h = abs(x2-x1), abs(y2-y1)\n",
    "    patch = plt.Rectangle([x1, y1], w, h, fill=False,\n",
    "                          edgecolor=color, linewidth=0.5)\n",
    "    ax.add_patch(patch)\n",
    "    ax.text( x1, y1, text,  bbox={\"facecolor\": color, \"alpha\": 0.1},\n",
    "             clip_box=ax.clipbox, clip_on=True, )\n",
    "\n",
    "####### 52x52 grid            \n",
    "grid = 52  # L = 2 n = 2\n",
    "i,j = 29,32# position of anchor\n",
    "x = np.linspace(0,416,grid+1) # start, end, howmany\n",
    "y = np.linspace(0,416,grid+1)\n",
    "xx, yy = np.meshgrid(x,y)\n",
    "anchor_xc = xx[i+1, i+1]- x[1]/2.0\n",
    "anchor_yc = yy[j+1,0] - y[1]/2.0\n",
    "print('red dot : center of the anchor box')\n",
    "print(anchor_xc, anchor_yc)\n",
    "plt.scatter(anchor_xc, anchor_yc, marker='.', color='r')\n",
    "plt.plot(xx, yy, 'b', linewidth=0.5, alpha=0.2)\n",
    "plt.plot(yy, xx, 'b', linewidth=0.5, alpha=0.2)\n",
    "\n",
    "# Anchor box width and height\n",
    "L = 2; n = 2\n",
    "anchor = anchors[n]\n",
    "w, h = anchor\n",
    "xmin = anchor_xc - w/2.0\n",
    "ymin = anchor_yc - h/2.0\n",
    "anchor_patch = plt.Rectangle([xmin, ymin], w, h, fill=True, alpha=0.3, \n",
    "                          edgecolor=color, linewidth=0.5)\n",
    "ax.add_patch(anchor_patch)\n",
    "plt.show()\n"
   ]
  }
 ],
 "metadata": {
  "kernelspec": {
   "display_name": "Python 3",
   "language": "python",
   "name": "python3"
  },
  "language_info": {
   "codemirror_mode": {
    "name": "ipython",
    "version": 3
   },
   "file_extension": ".py",
   "mimetype": "text/x-python",
   "name": "python",
   "nbconvert_exporter": "python",
   "pygments_lexer": "ipython3",
   "version": "3.7.6"
  }
 },
 "nbformat": 4,
 "nbformat_minor": 4
}
